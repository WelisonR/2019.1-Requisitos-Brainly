{
 "cells": [
  {
   "cell_type": "code",
   "execution_count": 1,
   "metadata": {},
   "outputs": [],
   "source": [
    "import requests\n",
    "import re\n",
    "\n",
    "from lxml import html\n",
    "from bs4 import BeautifulSoup\n",
    "import random"
   ]
  },
  {
   "cell_type": "code",
   "execution_count": 2,
   "metadata": {},
   "outputs": [],
   "source": [
    "class Lexico:\n",
    "    def __init__(self, id_lex, nome, nocao, classificacao, impacto, sinonimo, relacionados):\n",
    "        self.id_lex = int(id_lex)\n",
    "        self.nome = str(nome)\n",
    "        self.nocao = str(nocao)\n",
    "        self.classificacao = str(classificacao)\n",
    "        self.impacto = str(impacto)\n",
    "        self.sinonimo = str(sinonimo)\n",
    "        self.relacionados = list(relacionados)"
   ]
  },
  {
   "cell_type": "code",
   "execution_count": 3,
   "metadata": {},
   "outputs": [],
   "source": [
    "class Cenario:\n",
    "    def __init__(self, id_cen, titulo, objetivo, contexto, atores, recursos, excecao, episodios, cen_relacionados):\n",
    "        self.id_cen = int(id_cen)\n",
    "        self.titulo = str(titulo)\n",
    "        self.objetivo = str(objetivo)\n",
    "        self.contexto = str(contexto)\n",
    "        self.atores = str(atores)\n",
    "        self.recursos = recursos\n",
    "        self.excecao = excecao\n",
    "        self.episodios = episodios\n",
    "        self.cen_relacionados = cen_relacionados"
   ]
  },
  {
   "cell_type": "code",
   "execution_count": 4,
   "metadata": {},
   "outputs": [],
   "source": [
    "urls_lexicos = [\n",
    "    ['http://pes.inf.puc-rio.br/cel/aplicacao/main.php?id=12529&t=l', 12529], # administrador\n",
    "    ['http://pes.inf.puc-rio.br/cel/aplicacao/main.php?id=12502&t=l', 12502], # amigo\n",
    "    ['http://pes.inf.puc-rio.br/cel/aplicacao/main.php?id=12534&t=l', 12534], # banido\n",
    "    ['http://pes.inf.puc-rio.br/cel/aplicacao/main.php?id=12574&t=l', 12574], # bloquear usuário\n",
    "    ['http://pes.inf.puc-rio.br/cel/aplicacao/main.php?id=12506&t=l', 12506], # comentário\n",
    "    ['http://pes.inf.puc-rio.br/cel/aplicacao/main.php?id=12525&t=l', 12525], # comunidade\n",
    "    ['http://pes.inf.puc-rio.br/cel/aplicacao/main.php?id=12533&t=l', 12533], # denunciar\n",
    "    ['http://pes.inf.puc-rio.br/cel/aplicacao/main.php?id=12496&t=l', 12496], # desafios\n",
    "    ['http://pes.inf.puc-rio.br/cel/aplicacao/main.php?id=12495&t=l', 12495], # emblemas\n",
    "    ['http://pes.inf.puc-rio.br/cel/aplicacao/main.php?id=12518&t=l', 12518], # emblemas conquistados\n",
    "    ['http://pes.inf.puc-rio.br/cel/aplicacao/main.php?id=12516&t=l', 12516], # emblemas mais próximos\n",
    "    ['http://pes.inf.puc-rio.br/cel/aplicacao/main.php?id=12517&t=l', 12517], # emblemas recentes\n",
    "    ['http://pes.inf.puc-rio.br/cel/aplicacao/main.php?id=12531&t=l', 12531], # infrator\n",
    "    ['http://pes.inf.puc-rio.br/cel/aplicacao/main.php?id=12499&t=l', 12499], # matéria\n",
    "    ['http://pes.inf.puc-rio.br/cel/aplicacao/main.php?id=12490&t=l', 12490], # melhor resposta\n",
    "    ['http://pes.inf.puc-rio.br/cel/aplicacao/main.php?id=12508&t=l', 12508], # mensagens\n",
    "    ['http://pes.inf.puc-rio.br/cel/aplicacao/main.php?id=12528&t=l', 12528], # moderador\n",
    "    ['http://pes.inf.puc-rio.br/cel/aplicacao/main.php?id=12491&t=l', 12491], # nível\n",
    "    ['http://pes.inf.puc-rio.br/cel/aplicacao/main.php?id=12509&t=l', 12509], # notificações\n",
    "    ['http://pes.inf.puc-rio.br/cel/aplicacao/main.php?id=12497&t=l', 12497], # obrigados\n",
    "    ['http://pes.inf.puc-rio.br/cel/aplicacao/main.php?id=12532&t=l', 12532], # perfil\n",
    "    ['http://pes.inf.puc-rio.br/cel/aplicacao/main.php?id=12494&t=l', 12494], # pergunta\n",
    "    ['http://pes.inf.puc-rio.br/cel/aplicacao/main.php?id=12510&t=l', 12510], # pergunta expirada\n",
    "    ['http://pes.inf.puc-rio.br/cel/aplicacao/main.php?id=12575&t=l', 12575], # pergunta popular\n",
    "    ['http://pes.inf.puc-rio.br/cel/aplicacao/main.php?id=12492&t=l', 12492], # pontos\n",
    "    ['http://pes.inf.puc-rio.br/cel/aplicacao/main.php?id=12498&t=l', 12498], # rankings\n",
    "    ['http://pes.inf.puc-rio.br/cel/aplicacao/main.php?id=12520&t=l', 12520], # recebendo resposta\n",
    "    ['http://pes.inf.puc-rio.br/cel/aplicacao/main.php?id=12489&t=l', 12489], # responder\n",
    "    ['http://pes.inf.puc-rio.br/cel/aplicacao/main.php?id=12521&t=l', 12521], # respondidas\n",
    "    ['http://pes.inf.puc-rio.br/cel/aplicacao/main.php?id=12522&t=l', 12522], # respostas verificadas\n",
    "    ['http://pes.inf.puc-rio.br/cel/aplicacao/main.php?id=12519&t=l', 12519], # sem resposta\n",
    "    ['http://pes.inf.puc-rio.br/cel/aplicacao/main.php?id=12514&t=l', 12514], # tarefas adicionadas\n",
    "    ['http://pes.inf.puc-rio.br/cel/aplicacao/main.php?id=12512&t=l', 12512], # tarefas resolvidas\n",
    "    ['http://pes.inf.puc-rio.br/cel/aplicacao/main.php?id=12576&t=l', 12576], # time de respostas\n",
    "    ['http://pes.inf.puc-rio.br/cel/aplicacao/main.php?id=12577&t=l', 12577]  # universitário\n",
    "]"
   ]
  },
  {
   "cell_type": "code",
   "execution_count": 5,
   "metadata": {},
   "outputs": [],
   "source": [
    "urls_cenarios = [\n",
    "    ['http://pes.inf.puc-rio.br/cel/aplicacao/main.php?id=2999&t=c', 2999],\n",
    "    ['http://pes.inf.puc-rio.br/cel/aplicacao/main.php?id=2996&t=c', 2996],\n",
    "    ['http://pes.inf.puc-rio.br/cel/aplicacao/main.php?id=2998&t=c', 2998],\n",
    "    ['http://pes.inf.puc-rio.br/cel/aplicacao/main.php?id=3030&t=c', 3030],\n",
    "    ['http://pes.inf.puc-rio.br/cel/aplicacao/main.php?id=3000&t=c', 3000],\n",
    "    ['http://pes.inf.puc-rio.br/cel/aplicacao/main.php?id=2997&t=c', 2997]\n",
    "]"
   ]
  },
  {
   "cell_type": "code",
   "execution_count": 6,
   "metadata": {},
   "outputs": [],
   "source": [
    "session_requests = requests.session()\n",
    "PAYLOAD = 'http://pes.inf.puc-rio.br/cel/aplicacao/add_usuario.php?cadastrado=&novo=true&login=requisitosBrainly'"
   ]
  },
  {
   "cell_type": "code",
   "execution_count": 7,
   "metadata": {},
   "outputs": [],
   "source": [
    "def forceLogin(url):\n",
    "    result = session_requests.post(url)\n",
    "    \n",
    "    return result"
   ]
  },
  {
   "cell_type": "code",
   "execution_count": 8,
   "metadata": {},
   "outputs": [],
   "source": [
    "result = forceLogin(PAYLOAD)"
   ]
  },
  {
   "cell_type": "code",
   "execution_count": 9,
   "metadata": {},
   "outputs": [],
   "source": [
    "def treat_symbols_id(table_data):\n",
    "    #link_symbol = re.compile('(<a.+(id=\\d{0,5}).+>(\\w*)</a>)')\n",
    "    #link_symbol = re.compile('(<a.+(id=\\d{0,5}).*\">)([^<]*).*/a>')\n",
    "    #a_tag = re.compile(r'(<a[^>]*>[^<]+<\\/a>)')\n",
    "    a_tag = re.compile(r'(<a[\\s]+[^>]+>(?:.(?!\\<\\/a\\>))*.<\\/a>)')\n",
    "    link_symbol = re.compile(r'(<a.+(id=\\d{0,5}).*\">([^<]*).*/a>)')\n",
    "    \n",
    "    \n",
    "    tables = []\n",
    "    for table in table_data:\n",
    "        rows = []\n",
    "        for row in table:            \n",
    "            tags = re.findall(a_tag, r'{}'.format(row))\n",
    "            \n",
    "            for tag in tags:                \n",
    "                symbol = re.findall(link_symbol, str(tag))\n",
    "                \n",
    "                link, id_symbol, name = symbol[0]\n",
    "                \n",
    "                \n",
    "                row = str(row)\n",
    "                row = row.replace(r'{}'.format(link), r'[{}](#{})'.format(name, id_symbol))\n",
    "            \n",
    "            row = BeautifulSoup(str(row))\n",
    "            row = row.findAll('td')\n",
    "            \n",
    "            rows.append(row)\n",
    "        tables.append(rows)\n",
    "        \n",
    "    return tables"
   ]
  },
  {
   "cell_type": "code",
   "execution_count": 10,
   "metadata": {},
   "outputs": [],
   "source": [
    "def pull_data(data_url):\n",
    "    data = session_requests.get(data_url)\n",
    "    soup = BeautifulSoup(data.content)\n",
    "    \n",
    "    tables = soup.findAll('table')\n",
    "    \n",
    "    del tables[1]\n",
    "    \n",
    "    table_data = []\n",
    "    for table in tables:\n",
    "        data = table.findAll('td')\n",
    "        table_data.append(data)\n",
    "                \n",
    "    table_data = treat_symbols_id(table_data)\n",
    "\n",
    "    info_data = table_data[0]\n",
    "    related_data = table_data[1]\n",
    "\n",
    "    return table_data"
   ]
  },
  {
   "cell_type": "code",
   "execution_count": 11,
   "metadata": {},
   "outputs": [],
   "source": [
    "def lexicos_cenarios_objects(id_lexico, info, related_data, type_obj):\n",
    "    final_data = []\n",
    "    \n",
    "    final_data.append(int(id_lexico))\n",
    "    for data in info:\n",
    "        data = data[0].text\n",
    "        data = data.replace('', '').replace('\\r', '').replace('\\t', '')\n",
    "        data = data.strip(' ').strip('\\n').strip(' ')\n",
    "\n",
    "        final_data.append(data)\n",
    "    \n",
    "    related_lexicos = []\n",
    "    for related in related_data:\n",
    "        data = related[0].text\n",
    "        if (len(data) > 0):\n",
    "            related_lexicos.append(str(data))\n",
    "            #related_lexicos += data + '\\n'\n",
    "\n",
    "    final_data.append(related_lexicos)\n",
    "    \n",
    "    if type_obj == 'lexicos':\n",
    "        lex = Lexico(*final_data)\n",
    "        return lex\n",
    "    elif type_obj == 'cenarios':\n",
    "        cen = Cenario(*final_data)\n",
    "        return cen\n",
    "    return final_data"
   ]
  },
  {
   "cell_type": "code",
   "execution_count": 12,
   "metadata": {},
   "outputs": [],
   "source": [
    "def lexicos_information(urls_lexicos):\n",
    "    lexicos = []\n",
    "    for url in urls_lexicos:\n",
    "        info, related_data = pull_data(url[0])\n",
    "        id_lex = int(url[1])\n",
    "        obj = lexicos_cenarios_objects(id_lex, info, related_data, 'lexicos')\n",
    "\n",
    "        lexicos.append(obj)\n",
    "    \n",
    "    return lexicos"
   ]
  },
  {
   "cell_type": "code",
   "execution_count": 13,
   "metadata": {},
   "outputs": [],
   "source": [
    "LEXICOS = lexicos_information(urls_lexicos)"
   ]
  },
  {
   "cell_type": "markdown",
   "metadata": {},
   "source": [
    "# Write to markdown file"
   ]
  },
  {
   "cell_type": "markdown",
   "metadata": {},
   "source": [
    "## Léxicos"
   ]
  },
  {
   "cell_type": "code",
   "execution_count": 14,
   "metadata": {},
   "outputs": [],
   "source": [
    "def analyse_id(relacionados):\n",
    "    id_regex = re.compile('id=(\\d{0,5})')\n",
    "    \n",
    "    lexicos = []\n",
    "    cenarios = []\n",
    "    for relacionado in relacionados:\n",
    "        relacionado = relacionado.replace('\\n', '</br>')\n",
    "        id = re.findall(id_regex, relacionado)\n",
    "        id = int(id[0])\n",
    "\n",
    "        if (id < 8000):\n",
    "            cenarios.append(relacionado)\n",
    "        else:\n",
    "            lexicos.append(relacionado)\n",
    "    \n",
    "    \n",
    "    while len(cenarios) > len(lexicos):\n",
    "        lexicos.append(' ')\n",
    "        \n",
    "    while len(lexicos) > len(cenarios):\n",
    "        cenarios.append(' ')\n",
    "            \n",
    "    return lexicos, cenarios"
   ]
  },
  {
   "cell_type": "code",
   "execution_count": 15,
   "metadata": {},
   "outputs": [],
   "source": [
    "def generate_lexico_markdown(LEXICOS):\n",
    "    hash = hex(random.getrandbits(128))\n",
    "\n",
    "    f = open('./testes/lexicos{}.md'.format(hash), \"w+\")\n",
    "\n",
    "    for lexico in LEXICOS:\n",
    "        f.write(\"# %s {#id=%d}\\n\\n\" % (lexico.nome, lexico.id_lex))\n",
    "\n",
    "        nome = lexico.nome.replace('\\n', '</br>')\n",
    "        nocao = lexico.nocao.replace('\\n', '</br>')\n",
    "        classificacao = lexico.classificacao.replace('\\n', '</br>')\n",
    "        impacto = lexico.impacto.replace('\\n', '</br>')\n",
    "        sinonimo = lexico.sinonimo.replace('\\n', '</br>')\n",
    "\n",
    "        f.write('|  Informações  | Símbolo |\\n')\n",
    "        f.write('|:-------------:|:-------:|\\n')\n",
    "        f.write('|      Nome     |    {}   |\\n'.format(nome))\n",
    "        f.write('|      Noção    |    {}   |\\n'.format(nocao))    \n",
    "        f.write('| Classificação |    {}   |\\n'.format(classificacao))    \n",
    "        f.write('|    Impacto    |    {}   |\\n'.format(impacto))\n",
    "        f.write('|    Sinônimos  |    {}   |\\n'.format(sinonimo))\n",
    "\n",
    "        f.write('\\n\\n')\n",
    "\n",
    "        f.write('|    Cenários   | Lexicos |\\n')\n",
    "        f.write('|:-------------:|:-------:|\\n')\n",
    "\n",
    "        lexicos, cenarios = analyse_id(lexico.relacionados)\n",
    "\n",
    "        if len(lexicos) > 0:\n",
    "            for i in range(len(lexicos)):\n",
    "                f.write('| {} | {} |\\n'.format(cenarios[i], lexicos[i]))\n",
    "        else:\n",
    "            f.write('| - | - |\\n')\n",
    "\n",
    "        f.write('\\n\\n\\n')\n",
    "\n",
    "    f.close()"
   ]
  },
  {
   "cell_type": "code",
   "execution_count": 22,
   "metadata": {},
   "outputs": [],
   "source": [
    "generate_lexico_markdown(LEXICOS)"
   ]
  },
  {
   "cell_type": "code",
   "execution_count": 17,
   "metadata": {},
   "outputs": [
    {
     "data": {
      "text/plain": [
       "([' '], ['[moderar denúncia](#id=3030)'])"
      ]
     },
     "execution_count": 17,
     "metadata": {},
     "output_type": "execute_result"
    }
   ],
   "source": [
    "analyse_id(LEXICOS[3].relacionados)"
   ]
  },
  {
   "cell_type": "markdown",
   "metadata": {},
   "source": [
    "## Cenários"
   ]
  },
  {
   "cell_type": "code",
   "execution_count": 18,
   "metadata": {},
   "outputs": [],
   "source": [
    "def cenarios_information(urls_cenarios):\n",
    "    cenarios = []\n",
    "    for url in urls_cenarios:\n",
    "        info, related_data = pull_data(url[0])\n",
    "        id_cen = int(url[1])\n",
    "        obj = lexicos_cenarios_objects(id_cen, info, related_data, 'cenarios')\n",
    "\n",
    "        cenarios.append(obj)\n",
    "    \n",
    "    return cenarios"
   ]
  },
  {
   "cell_type": "code",
   "execution_count": 19,
   "metadata": {},
   "outputs": [],
   "source": [
    "CENARIOS = cenarios_information(urls_cenarios)"
   ]
  },
  {
   "cell_type": "code",
   "execution_count": 20,
   "metadata": {},
   "outputs": [],
   "source": [
    "def generate_cenario_markdown(CENARIO):\n",
    "    hash = hex(random.getrandbits(128))\n",
    "\n",
    "    f = open('./testes/cenarios{}.md'.format(hash), \"w+\")\n",
    "\n",
    "    for cenario in CENARIOS:\n",
    "        f.write(\"# %s {#id=%d}\\n\\n\" % (cenario.titulo, cenario.id_cen))\n",
    "\n",
    "        titulo = cenario.titulo.replace('\\n', '</br>')\n",
    "        objetivo = cenario.objetivo.replace('\\n', '</br>')\n",
    "        contexto = cenario.contexto.replace('\\n', '</br>')\n",
    "        atores = cenario.atores.replace('\\n', '</br>')\n",
    "        recursos = cenario.recursos.replace('\\n', '</br>')\n",
    "        excecao = cenario.excecao.replace('\\n', '</br>')\n",
    "        episodios = cenario.episodios.replace('\\n', '</br>')\n",
    "\n",
    "        f.write('|  Informações  | Cenário |\\n')\n",
    "        f.write('|:-------------:|:-------:|\\n')\n",
    "        f.write('|    Título     |    {}   |\\n'.format(titulo))\n",
    "        f.write('|    Objetivo   |    {}   |\\n'.format(objetivo))    \n",
    "        f.write('|    Contexto   |    {}   |\\n'.format(contexto))    \n",
    "        f.write('|    Atores     |    {}   |\\n'.format(atores))\n",
    "        f.write('|    Recursos   |    {}   |\\n'.format(recursos))\n",
    "        f.write('|    Excecão    |    {}   |\\n'.format(excecao))\n",
    "        f.write('|    Episódio   |    {}   |\\n'.format(str(episodios)))\n",
    "\n",
    "        f.write('\\n\\n')\n",
    "\n",
    "        f.write('|    Cenários   |\\n')\n",
    "        f.write('|:-------------:|\\n')\n",
    "\n",
    "        if len(cenario.cen_relacionados) > 0:\n",
    "            for i in range(len(cenario.cen_relacionados)):\n",
    "                f.write('| {} |'.format(cenario.cen_relacionados[i]))\n",
    "        else:\n",
    "            f.write('| - | - |\\n')\n",
    "\n",
    "        f.write('\\n\\n\\n')\n",
    "\n",
    "    f.close()"
   ]
  },
  {
   "cell_type": "code",
   "execution_count": 23,
   "metadata": {},
   "outputs": [],
   "source": [
    "generate_cenario_markdown(CENARIOS)"
   ]
  },
  {
   "cell_type": "code",
   "execution_count": null,
   "metadata": {},
   "outputs": [],
   "source": [
    "print(CENARIOS[2].episodios)"
   ]
  },
  {
   "cell_type": "code",
   "execution_count": null,
   "metadata": {},
   "outputs": [],
   "source": []
  }
 ],
 "metadata": {
  "kernelspec": {
   "display_name": "Python 3",
   "language": "python",
   "name": "python3"
  },
  "language_info": {
   "codemirror_mode": {
    "name": "ipython",
    "version": 3
   },
   "file_extension": ".py",
   "mimetype": "text/x-python",
   "name": "python",
   "nbconvert_exporter": "python",
   "pygments_lexer": "ipython3",
   "version": "3.6.8"
  }
 },
 "nbformat": 4,
 "nbformat_minor": 2
}
